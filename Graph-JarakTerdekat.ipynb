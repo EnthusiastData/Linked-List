{
  "nbformat": 4,
  "nbformat_minor": 0,
  "metadata": {
    "colab": {
      "provenance": [],
      "authorship_tag": "ABX9TyOzEKJbPSs6EzcnXz8Sageq",
      "include_colab_link": true
    },
    "kernelspec": {
      "name": "python3",
      "display_name": "Python 3"
    },
    "language_info": {
      "name": "python"
    }
  },
  "cells": [
    {
      "cell_type": "markdown",
      "metadata": {
        "id": "view-in-github",
        "colab_type": "text"
      },
      "source": [
        "<a href=\"https://colab.research.google.com/github/EnthusiastData/Linked-List/blob/main/Graph-JarakTerdekat.ipynb\" target=\"_parent\"><img src=\"https://colab.research.google.com/assets/colab-badge.svg\" alt=\"Open In Colab\"/></a>"
      ]
    },
    {
      "cell_type": "code",
      "execution_count": 1,
      "metadata": {
        "colab": {
          "base_uri": "https://localhost:8080/"
        },
        "id": "wqng1iuUrspd",
        "outputId": "2255a547-6d44-4c00-9ca8-847bce5bea22"
      },
      "outputs": [
        {
          "output_type": "stream",
          "name": "stdout",
          "text": [
            "Jalur terpendek: ['A', 'C', 'D', 'E']\n"
          ]
        }
      ],
      "source": [
        "import heapq\n",
        "\n",
        "class Graph:\n",
        "    def __init__(self):\n",
        "        self.vertices = {}\n",
        "\n",
        "    def add_vertex(self, name, edges):\n",
        "        self.vertices[name] = edges\n",
        "\n",
        "    def shortest_path(self, start_vertex, end_vertex):\n",
        "        distances = {}  # Menyimpan jarak terpendek dari start_vertex ke setiap vertex\n",
        "        previous_vertices = {}  # Menyimpan vertex sebelumnya dalam jalur terpendek\n",
        "        heap = []  # Menyimpan vertex yang akan dievaluasi oleh algoritma Dijkstra\n",
        "\n",
        "        for vertex in self.vertices:\n",
        "            if vertex == start_vertex:\n",
        "                distances[vertex] = 0\n",
        "                heapq.heappush(heap, (0, vertex))\n",
        "            else:\n",
        "                distances[vertex] = float('inf')\n",
        "                heapq.heappush(heap, (float('inf'), vertex))\n",
        "\n",
        "        while heap:\n",
        "            current_distance, current_vertex = heapq.heappop(heap)\n",
        "\n",
        "            if current_distance > distances[current_vertex]:\n",
        "                continue\n",
        "\n",
        "            for neighbor, weight in self.vertices[current_vertex].items():\n",
        "                distance = current_distance + weight\n",
        "\n",
        "                if distance < distances[neighbor]:\n",
        "                    distances[neighbor] = distance\n",
        "                    previous_vertices[neighbor] = current_vertex\n",
        "                    heapq.heappush(heap, (distance, neighbor))\n",
        "\n",
        "        path = []\n",
        "        current_vertex = end_vertex\n",
        "\n",
        "        while current_vertex != start_vertex:\n",
        "            path.insert(0, current_vertex)\n",
        "            current_vertex = previous_vertices[current_vertex]\n",
        "\n",
        "        path.insert(0, start_vertex)\n",
        "        return path\n",
        "\n",
        "# Membuat objek Graph\n",
        "graph = Graph()\n",
        "\n",
        "# Menambahkan vertex dan edge (jarak antar vertex)\n",
        "graph.add_vertex('A', {'B': 5, 'C': 2})\n",
        "graph.add_vertex('B', {'A': 5, 'C': 1, 'D': 3})\n",
        "graph.add_vertex('C', {'A': 2, 'B': 1, 'D': 2})\n",
        "graph.add_vertex('D', {'B': 3, 'C': 2, 'E': 4})\n",
        "graph.add_vertex('E', {'D': 4})\n",
        "\n",
        "# Menemukan jalur terpendek dari 'A' ke 'E'\n",
        "shortest_path = graph.shortest_path('A', 'E')\n",
        "print(\"Jalur terpendek:\", shortest_path)\n"
      ]
    }
  ]
}