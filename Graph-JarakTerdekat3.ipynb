{
  "nbformat": 4,
  "nbformat_minor": 0,
  "metadata": {
    "colab": {
      "provenance": [],
      "authorship_tag": "ABX9TyNvGPwyTmlTJtqPJsZ8fQnt",
      "include_colab_link": true
    },
    "kernelspec": {
      "name": "python3",
      "display_name": "Python 3"
    },
    "language_info": {
      "name": "python"
    }
  },
  "cells": [
    {
      "cell_type": "markdown",
      "metadata": {
        "id": "view-in-github",
        "colab_type": "text"
      },
      "source": [
        "<a href=\"https://colab.research.google.com/github/EnthusiastData/Linked-List/blob/main/Graph-JarakTerdekat3.ipynb\" target=\"_parent\"><img src=\"https://colab.research.google.com/assets/colab-badge.svg\" alt=\"Open In Colab\"/></a>"
      ]
    },
    {
      "cell_type": "code",
      "source": [],
      "metadata": {
        "id": "Satip_h61EEF"
      },
      "execution_count": null,
      "outputs": []
    },
    {
      "cell_type": "code",
      "execution_count": 8,
      "metadata": {
        "colab": {
          "base_uri": "https://localhost:8080/"
        },
        "id": "wqng1iuUrspd",
        "outputId": "aa145dc4-25bf-41f8-e741-cd45623b7148"
      },
      "outputs": [
        {
          "output_type": "stream",
          "name": "stdout",
          "text": [
            "Masukkan kota awal: Jakarta\n",
            "Masukkan kota tujuan: Yogyakarta\n",
            "Jalur terpendek dari Jakarta ke Yogyakarta adalah:\n",
            "Jakarta -> Yogyakarta\n"
          ]
        }
      ],
      "source": [
        "import heapq\n",
        "\n",
        "class Graph:\n",
        "    def __init__(self):\n",
        "        self.vertices = {}\n",
        "\n",
        "    def add_vertex(self, name, edges):\n",
        "        self.vertices[name] = edges\n",
        "\n",
        "    def shortest_path(self, start_vertex, end_vertex):\n",
        "        distances = {}  # Menyimpan jarak terpendek dari start_vertex ke setiap vertex\n",
        "        previous_vertices = {}  # Menyimpan vertex sebelumnya dalam jalur terpendek\n",
        "        heap = []  # Menyimpan vertex yang akan dievaluasi oleh algoritma Dijkstra\n",
        "\n",
        "        for vertex in self.vertices:\n",
        "            if vertex == start_vertex:\n",
        "                distances[vertex] = 0\n",
        "                heapq.heappush(heap, (0, vertex))\n",
        "            else:\n",
        "                distances[vertex] = float('inf')\n",
        "                heapq.heappush(heap, (float('inf'), vertex))\n",
        "\n",
        "        while heap:\n",
        "            current_distance, current_vertex = heapq.heappop(heap)\n",
        "\n",
        "            if current_distance > distances[current_vertex]:\n",
        "                continue\n",
        "\n",
        "            for neighbor, weight in self.vertices[current_vertex].items():\n",
        "                distance = current_distance + weight\n",
        "\n",
        "                if distance < distances[neighbor]:\n",
        "                    distances[neighbor] = distance\n",
        "                    previous_vertices[neighbor] = current_vertex\n",
        "                    heapq.heappush(heap, (distance, neighbor))\n",
        "\n",
        "        path = []\n",
        "        current_vertex = end_vertex\n",
        "\n",
        "        while current_vertex != start_vertex:\n",
        "            path.insert(0, current_vertex)\n",
        "            current_vertex = previous_vertices[current_vertex]\n",
        "\n",
        "        path.insert(0, start_vertex)\n",
        "        return path\n",
        "\n",
        "def main():\n",
        "    # Membuat objek Graph\n",
        "    graph = Graph()\n",
        "\n",
        "    # Menambahkan kota-kota dan jarak antar kota\n",
        "    graph.add_vertex('Jakarta', {'Bandung': 150, 'Surabaya': 800, 'Yogyakarta': 550})\n",
        "    graph.add_vertex('Bandung', {'Jakarta': 150, 'Surabaya': 900, 'Yogyakarta': 700})\n",
        "    graph.add_vertex('Surabaya', {'Jakarta': 800, 'Bandung': 900, 'Yogyakarta': 500})\n",
        "    graph.add_vertex('Yogyakarta', {'Jakarta': 550, 'Bandung': 700, 'Surabaya': 500})\n",
        "\n",
        "    # Meminta input kota awal dan kota tujuan dari pengguna\n",
        "    start_city = input(\"Masukkan kota awal: \")\n",
        "    end_city = input(\"Masukkan kota tujuan: \")\n",
        "\n",
        "    # Menemukan jalur terpendek antara kota awal dan kota tujuan\n",
        "    shortest_path = graph.shortest_path(start_city, end_city)\n",
        "\n",
        "    if len(shortest_path) > 1:\n",
        "        print(\"Jalur terpendek dari\", start_city, \"ke\", end_city, \"adalah:\")\n",
        "        print(\" -> \".join(shortest_path))\n",
        "    else:\n",
        "        print(\"Tidak ada jalur yang tersedia dari\", start_city, \"ke\", end_city)\n",
        "\n",
        "if __name__ == '__main__':\n",
        "    main()\n"
      ]
    }
  ]
}