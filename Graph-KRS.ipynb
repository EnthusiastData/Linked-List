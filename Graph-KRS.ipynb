{
  "nbformat": 4,
  "nbformat_minor": 0,
  "metadata": {
    "colab": {
      "provenance": [],
      "authorship_tag": "ABX9TyOTICCQN5F5Xpew2fGONi2N",
      "include_colab_link": true
    },
    "kernelspec": {
      "name": "python3",
      "display_name": "Python 3"
    },
    "language_info": {
      "name": "python"
    }
  },
  "cells": [
    {
      "cell_type": "markdown",
      "metadata": {
        "id": "view-in-github",
        "colab_type": "text"
      },
      "source": [
        "<a href=\"https://colab.research.google.com/github/EnthusiastData/Linked-List/blob/main/Graph-KRS.ipynb\" target=\"_parent\"><img src=\"https://colab.research.google.com/assets/colab-badge.svg\" alt=\"Open In Colab\"/></a>"
      ]
    },
    {
      "cell_type": "code",
      "execution_count": 15,
      "metadata": {
        "colab": {
          "base_uri": "https://localhost:8080/"
        },
        "id": "wqng1iuUrspd",
        "outputId": "7de01d6d-2b5b-4b8a-a9ea-49441ffd3b8d"
      },
      "outputs": [
        {
          "output_type": "stream",
          "name": "stdout",
          "text": [
            "Kartu Rencana Studi (KRS):\n",
            "Basis Data\n",
            "Rekayasa Perangkat Lunak\n",
            "Algoritma dan Struktur Data\n",
            "Pemrograman Dasar\n",
            "Fisika Dasar\n",
            "Matematika Dasar\n"
          ]
        }
      ],
      "source": [
        "class Graph:\n",
        "    def __init__(self):\n",
        "        self.vertices = {}\n",
        "\n",
        "    def add_vertex(self, course, prerequisites):\n",
        "        self.vertices[course] = prerequisites\n",
        "\n",
        "    def is_cyclic_util(self, course, visited, recursion_stack):\n",
        "        visited[course] = True\n",
        "        recursion_stack[course] = True\n",
        "\n",
        "        if course in self.vertices:\n",
        "            for neighbor in self.vertices[course]:\n",
        "                if not visited[neighbor]:\n",
        "                    if self.is_cyclic_util(neighbor, visited, recursion_stack):\n",
        "                        return True\n",
        "                elif recursion_stack[neighbor]:\n",
        "                    return True\n",
        "\n",
        "        recursion_stack[course] = False\n",
        "        return False\n",
        "\n",
        "    def is_cyclic(self):\n",
        "        visited = {course: False for course in self.vertices}\n",
        "        recursion_stack = {course: False for course in self.vertices}\n",
        "\n",
        "        for course in self.vertices:\n",
        "            if not visited[course]:\n",
        "                if self.is_cyclic_util(course, visited, recursion_stack):\n",
        "                    return True\n",
        "\n",
        "        return False\n",
        "\n",
        "    def generate_krs(self):\n",
        "        krs = []\n",
        "        visited = {course: False for course in self.vertices}\n",
        "\n",
        "        for course in self.vertices:\n",
        "            if not visited[course]:\n",
        "                prerequisites = self.vertices[course]\n",
        "                self.dfs(course, visited, krs)\n",
        "\n",
        "        return krs[::-1]\n",
        "\n",
        "    def dfs(self, course, visited, krs):\n",
        "        visited[course] = True\n",
        "\n",
        "        if course in self.vertices:\n",
        "            for neighbor in self.vertices[course]:\n",
        "                if not visited[neighbor]:\n",
        "                    self.dfs(neighbor, visited, krs)\n",
        "\n",
        "        krs.append(course)\n",
        "\n",
        "def main():\n",
        "    # Membuat objek Graph\n",
        "    graph = Graph()\n",
        "\n",
        "    # Menambahkan mata kuliah dan prerequisites (mata kuliah yang harus diambil sebelumnya)\n",
        "    graph.add_vertex('Matematika Dasar', [])\n",
        "    graph.add_vertex('Fisika Dasar', [])\n",
        "    graph.add_vertex('Pemrograman Dasar', [])\n",
        "    graph.add_vertex('Algoritma dan Struktur Data', ['Matematika Dasar', 'Pemrograman Dasar'])\n",
        "    graph.add_vertex('Rekayasa Perangkat Lunak', ['Algoritma dan Struktur Data'])\n",
        "    graph.add_vertex('Basis Data', ['Pemrograman Dasar'])\n",
        "\n",
        "    # Mengecek apakah terdapat siklus (cycle) pada prerequisites\n",
        "    if graph.is_cyclic():\n",
        "        print(\"Terdapat siklus pada prerequisites. Tidak dapat menentukan KRS.\")\n",
        "    else:\n",
        "        # Membangkitkan KRS berdasarkan urutan DFS\n",
        "        krs = graph.generate_krs()\n",
        "        print(\"Kartu Rencana Studi (KRS):\")\n",
        "        for course in krs:\n",
        "            print(course)\n",
        "\n",
        "if __name__ == '__main__':\n",
        "    main()\n"
      ]
    }
  ]
}